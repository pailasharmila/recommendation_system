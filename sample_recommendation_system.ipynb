{
 "cells": [
  {
   "cell_type": "code",
   "execution_count": 1,
   "id": "f5423de1-8549-44a8-9f21-94d9b8635fa6",
   "metadata": {},
   "outputs": [],
   "source": [
    "import pandas as pd\n",
    "import numpy as np\n",
    "import matplotlib.pyplot as plt"
   ]
  },
  {
   "cell_type": "code",
   "execution_count": 2,
   "id": "1f5df032-06d0-4747-89fc-5514d49a51a4",
   "metadata": {},
   "outputs": [],
   "source": [
    "df=pd.read_csv('data/users_corrected.csv')"
   ]
  },
  {
   "cell_type": "code",
   "execution_count": 3,
   "id": "ca91966f-f93d-4359-97db-d45f33fc28a6",
   "metadata": {},
   "outputs": [
    {
     "data": {
      "text/plain": [
       "<bound method NDFrame.head of     user_id username                   join_date  reputation\n",
       "0         1    Aarav  2022-05-18 07:38:17.917924         371\n",
       "1         2     Diya  2022-10-17 07:38:17.917954         342\n",
       "2         3   Aditya  2023-08-02 07:38:17.917961          80\n",
       "3         4     Pari  2022-09-28 07:38:17.917966         231\n",
       "4         5    Aarav  2023-09-14 07:38:17.917970          19\n",
       "..      ...      ...                         ...         ...\n",
       "95       96     Sara  2024-03-12 07:38:17.918394         229\n",
       "96       97  Krishna  2023-05-04 07:38:17.918399          12\n",
       "97       98      Ira  2024-01-10 07:38:17.918403         261\n",
       "98       99  Shanaya  2022-06-24 07:38:17.918407           2\n",
       "99      100  Shanaya  2022-06-27 07:38:17.918412         451\n",
       "\n",
       "[100 rows x 4 columns]>"
      ]
     },
     "execution_count": 3,
     "metadata": {},
     "output_type": "execute_result"
    }
   ],
   "source": [
    "df.head"
   ]
  },
  {
   "cell_type": "code",
   "execution_count": 4,
   "id": "4484e902-1e1e-4703-b516-fb34fc9dffb8",
   "metadata": {},
   "outputs": [],
   "source": [
    "df_1=pd.read_csv('data/items.csv')"
   ]
  },
  {
   "cell_type": "code",
   "execution_count": 5,
   "id": "70232ed3-85d6-4749-88e0-995fdac3fc15",
   "metadata": {},
   "outputs": [],
   "source": [
    "df_2=pd.read_csv('data/interactions.csv')"
   ]
  },
  {
   "cell_type": "code",
   "execution_count": 6,
   "id": "6670942c-cca5-4c1b-9b1c-351fe6ece486",
   "metadata": {},
   "outputs": [
    {
     "data": {
      "text/plain": [
       "<bound method NDFrame.head of     item_id item_name                           category  \\\n",
       "0       101   item101                      TIE-up sarees   \n",
       "1       102   item102                         Nike shoes   \n",
       "2       103   item103                          Black tie   \n",
       "3       104   item104                          Black tie   \n",
       "4       105   item105                Cocktail dress code   \n",
       "5       106   item106                               Suit   \n",
       "6       107   item107                         Nike shoes   \n",
       "7       108   item108                      TIE-up sarees   \n",
       "8       109   item109                          Chudidhar   \n",
       "9       110   item110                Cocktail dress code   \n",
       "10      111   item111                    Business casual   \n",
       "11      112   item112                          Chudidhar   \n",
       "12      113   item113                      TIE-up sarees   \n",
       "13      114   item114                      TIE-up sarees   \n",
       "14      115   item115                               Suit   \n",
       "15      116   item116                             Casual   \n",
       "16      117   item117                Indian traditionals   \n",
       "17      118   item118                             Casual   \n",
       "18      119   item119                               Suit   \n",
       "19      120   item120                    Business casual   \n",
       "20      121   item121                               Suit   \n",
       "21      122   item122                    Business casual   \n",
       "22      123   item123                Cocktail dress code   \n",
       "23      124   item124                              Skirt   \n",
       "24      125   item125                          Black tie   \n",
       "25      126   item126                    Business casual   \n",
       "26      127   item127                         Nike shoes   \n",
       "27      128   item128                             Casual   \n",
       "28      129   item129  Gender-neutral professional dress   \n",
       "29      130   item130                               Suit   \n",
       "30      131   item131                      TIE-up sarees   \n",
       "31      132   item132                    Business casual   \n",
       "32      133   item133                         Nike shoes   \n",
       "33      134   item134                             Casual   \n",
       "34      135   item135                Cocktail dress code   \n",
       "35      136   item136                    Business casual   \n",
       "36      137   item137                Cocktail dress code   \n",
       "37      138   item138                               Suit   \n",
       "38      139   item139                             Casual   \n",
       "39      140   item140                Indian traditionals   \n",
       "40      141   item141                Indian traditionals   \n",
       "41      142   item142                          Black tie   \n",
       "42      143   item143                         Nike shoes   \n",
       "43      144   item144                             Casual   \n",
       "44      145   item145                    Business casual   \n",
       "45      146   item146                          Black tie   \n",
       "46      147   item147                         Nike shoes   \n",
       "47      148   item148                          Chudidhar   \n",
       "48      149   item149                      TIE-up sarees   \n",
       "49      150   item150                         Nike shoes   \n",
       "\n",
       "                                          description  \n",
       "0   Elegant TIE-up sarees perfect for formal and c...  \n",
       "1   High-performance Nike shoes for sports and cas...  \n",
       "2   Elegant formal wear suitable for black tie eve...  \n",
       "3   Elegant formal wear suitable for black tie eve...  \n",
       "4   Chic and fashionable dress suitable for cockta...  \n",
       "5   Classic and tailored suit ideal for business a...  \n",
       "6   High-performance Nike shoes for sports and cas...  \n",
       "7   Elegant TIE-up sarees perfect for formal and c...  \n",
       "8   Traditional Chudidhar outfit for a stylish eth...  \n",
       "9   Chic and fashionable dress suitable for cockta...  \n",
       "10  Smart and professional attire for a relaxed of...  \n",
       "11  Traditional Chudidhar outfit for a stylish eth...  \n",
       "12  Elegant TIE-up sarees perfect for formal and c...  \n",
       "13  Elegant TIE-up sarees perfect for formal and c...  \n",
       "14  Classic and tailored suit ideal for business a...  \n",
       "15  Comfortable and everyday wear for casual outings.  \n",
       "16  Traditional Indian attire for cultural and fes...  \n",
       "17  Comfortable and everyday wear for casual outings.  \n",
       "18  Classic and tailored suit ideal for business a...  \n",
       "19  Smart and professional attire for a relaxed of...  \n",
       "20  Classic and tailored suit ideal for business a...  \n",
       "21  Smart and professional attire for a relaxed of...  \n",
       "22  Chic and fashionable dress suitable for cockta...  \n",
       "23  Stylish skirt perfect for both casual and form...  \n",
       "24  Elegant formal wear suitable for black tie eve...  \n",
       "25  Smart and professional attire for a relaxed of...  \n",
       "26  High-performance Nike shoes for sports and cas...  \n",
       "27  Comfortable and everyday wear for casual outings.  \n",
       "28  Professional attire suitable for all genders i...  \n",
       "29  Classic and tailored suit ideal for business a...  \n",
       "30  Elegant TIE-up sarees perfect for formal and c...  \n",
       "31  Smart and professional attire for a relaxed of...  \n",
       "32  High-performance Nike shoes for sports and cas...  \n",
       "33  Comfortable and everyday wear for casual outings.  \n",
       "34  Chic and fashionable dress suitable for cockta...  \n",
       "35  Smart and professional attire for a relaxed of...  \n",
       "36  Chic and fashionable dress suitable for cockta...  \n",
       "37  Classic and tailored suit ideal for business a...  \n",
       "38  Comfortable and everyday wear for casual outings.  \n",
       "39  Traditional Indian attire for cultural and fes...  \n",
       "40  Traditional Indian attire for cultural and fes...  \n",
       "41  Elegant formal wear suitable for black tie eve...  \n",
       "42  High-performance Nike shoes for sports and cas...  \n",
       "43  Comfortable and everyday wear for casual outings.  \n",
       "44  Smart and professional attire for a relaxed of...  \n",
       "45  Elegant formal wear suitable for black tie eve...  \n",
       "46  High-performance Nike shoes for sports and cas...  \n",
       "47  Traditional Chudidhar outfit for a stylish eth...  \n",
       "48  Elegant TIE-up sarees perfect for formal and c...  \n",
       "49  High-performance Nike shoes for sports and cas...  >"
      ]
     },
     "execution_count": 6,
     "metadata": {},
     "output_type": "execute_result"
    }
   ],
   "source": [
    "df_1.head"
   ]
  },
  {
   "cell_type": "code",
   "execution_count": 7,
   "id": "1f147480-4b3c-4d9f-b2bd-d1ff67cf8775",
   "metadata": {},
   "outputs": [
    {
     "data": {
      "text/plain": [
       "<bound method NDFrame.head of       user_id  item_id interaction_type                   timestamp\n",
       "0         428      181             like  2022-03-05 11:33:33.879798\n",
       "1         174      114             view  2022-07-11 11:33:33.879828\n",
       "2          80      101          comment  2023-01-03 11:33:33.879834\n",
       "3         114      103             view  2023-04-22 11:33:33.879839\n",
       "4         358      126             like  2021-10-20 11:33:33.879843\n",
       "...       ...      ...              ...                         ...\n",
       "4995      484      191          comment  2023-04-07 11:33:33.898077\n",
       "4996      452      183             view  2024-06-18 11:33:33.898078\n",
       "4997      437      124          comment  2023-08-30 11:33:33.898080\n",
       "4998       67      190             like  2024-05-15 11:33:33.898082\n",
       "4999      308      187             like  2022-11-23 11:33:33.898084\n",
       "\n",
       "[5000 rows x 4 columns]>"
      ]
     },
     "execution_count": 7,
     "metadata": {},
     "output_type": "execute_result"
    }
   ],
   "source": [
    "df_2.head"
   ]
  },
  {
   "cell_type": "code",
   "execution_count": 8,
   "id": "0efeb9b1-86ee-4a3c-b10d-1460169583e1",
   "metadata": {},
   "outputs": [
    {
     "data": {
      "text/plain": [
       "(100, 4)"
      ]
     },
     "execution_count": 8,
     "metadata": {},
     "output_type": "execute_result"
    }
   ],
   "source": [
    "df.shape"
   ]
  },
  {
   "cell_type": "code",
   "execution_count": 9,
   "id": "e90b05da-4615-4d86-af37-f64901b77761",
   "metadata": {},
   "outputs": [
    {
     "data": {
      "text/plain": [
       "(50, 4)"
      ]
     },
     "execution_count": 9,
     "metadata": {},
     "output_type": "execute_result"
    }
   ],
   "source": [
    "df_1.shape"
   ]
  },
  {
   "cell_type": "code",
   "execution_count": 10,
   "id": "aede9440-a9bb-43b2-84ad-265d88c02955",
   "metadata": {},
   "outputs": [
    {
     "data": {
      "text/plain": [
       "(5000, 4)"
      ]
     },
     "execution_count": 10,
     "metadata": {},
     "output_type": "execute_result"
    }
   ],
   "source": [
    "df_2.shape"
   ]
  },
  {
   "cell_type": "code",
   "execution_count": 11,
   "id": "d559a924-5608-43b4-8b72-61ba22f0d8ae",
   "metadata": {},
   "outputs": [
    {
     "name": "stdout",
     "output_type": "stream",
     "text": [
      "<class 'pandas.core.frame.DataFrame'>\n",
      "RangeIndex: 1003 entries, 0 to 1002\n",
      "Data columns (total 7 columns):\n",
      " #   Column            Non-Null Count  Dtype \n",
      "---  ------            --------------  ----- \n",
      " 0   user_id           1003 non-null   int64 \n",
      " 1   username          1003 non-null   object\n",
      " 2   join_date         1003 non-null   object\n",
      " 3   reputation        1003 non-null   int64 \n",
      " 4   item_id           1003 non-null   int64 \n",
      " 5   interaction_type  1003 non-null   object\n",
      " 6   timestamp         1003 non-null   object\n",
      "dtypes: int64(3), object(4)\n",
      "memory usage: 55.0+ KB\n"
     ]
    }
   ],
   "source": [
    "final=df.merge(df_2,on=\"user_id\")\n",
    "final.info()"
   ]
  },
  {
   "cell_type": "code",
   "execution_count": 12,
   "id": "b4b5a6b6-9f9e-46ac-ba3e-9d3d32d69cdf",
   "metadata": {},
   "outputs": [
    {
     "data": {
      "text/plain": [
       "(1003, 7)"
      ]
     },
     "execution_count": 12,
     "metadata": {},
     "output_type": "execute_result"
    }
   ],
   "source": [
    "final.shape"
   ]
  },
  {
   "cell_type": "code",
   "execution_count": 13,
   "id": "c0973557-31d6-4c89-a823-9c9af16c639d",
   "metadata": {},
   "outputs": [
    {
     "name": "stdout",
     "output_type": "stream",
     "text": [
      "<class 'pandas.core.frame.DataFrame'>\n",
      "RangeIndex: 489 entries, 0 to 488\n",
      "Data columns (total 10 columns):\n",
      " #   Column            Non-Null Count  Dtype \n",
      "---  ------            --------------  ----- \n",
      " 0   user_id           489 non-null    int64 \n",
      " 1   username          489 non-null    object\n",
      " 2   join_date         489 non-null    object\n",
      " 3   reputation        489 non-null    int64 \n",
      " 4   item_id           489 non-null    int64 \n",
      " 5   interaction_type  489 non-null    object\n",
      " 6   timestamp         489 non-null    object\n",
      " 7   item_name         489 non-null    object\n",
      " 8   category          489 non-null    object\n",
      " 9   description       489 non-null    object\n",
      "dtypes: int64(3), object(7)\n",
      "memory usage: 38.3+ KB\n"
     ]
    }
   ],
   "source": [
    "recomm=final.merge(df_1,on=\"item_id\")\n",
    "recomm.info()"
   ]
  },
  {
   "cell_type": "code",
   "execution_count": 14,
   "id": "b4fe03cb-f3c1-4ff1-a571-c53fbd3804cc",
   "metadata": {},
   "outputs": [
    {
     "data": {
      "text/plain": [
       "user_id             0\n",
       "username            0\n",
       "join_date           0\n",
       "reputation          0\n",
       "item_id             0\n",
       "interaction_type    0\n",
       "timestamp           0\n",
       "item_name           0\n",
       "category            0\n",
       "description         0\n",
       "dtype: int64"
      ]
     },
     "execution_count": 14,
     "metadata": {},
     "output_type": "execute_result"
    }
   ],
   "source": [
    "#finding missing data, to drop them 'dropna' is used\n",
    "recomm.isnull().sum()"
   ]
  },
  {
   "cell_type": "code",
   "execution_count": 15,
   "id": "58f38648-d9a9-48f8-8c3b-66779cbe72ca",
   "metadata": {},
   "outputs": [
    {
     "data": {
      "text/plain": [
       "0      False\n",
       "1      False\n",
       "2      False\n",
       "3      False\n",
       "4      False\n",
       "       ...  \n",
       "484    False\n",
       "485    False\n",
       "486    False\n",
       "487    False\n",
       "488    False\n",
       "Length: 489, dtype: bool"
      ]
     },
     "execution_count": 15,
     "metadata": {},
     "output_type": "execute_result"
    }
   ],
   "source": [
    "recomm.duplicated()"
   ]
  },
  {
   "cell_type": "code",
   "execution_count": 16,
   "id": "617b6929-d955-42cf-b72c-96b125c6121d",
   "metadata": {},
   "outputs": [],
   "source": [
    "# Calculate implicit ratings\n",
    "user_item_interactions = df_2.groupby(['user_id', 'item_id']).size().reset_index(name='total_interactions')\n",
    "max_interactions_per_user = user_item_interactions.groupby('user_id')['total_interactions'].max().reset_index(name='max_interactions')\n",
    "ratings = pd.merge(user_item_interactions, max_interactions_per_user, on='user_id')\n",
    "ratings['implicit_rating'] = ratings['total_interactions'] / ratings['max_interactions']\n",
    "\n",
    "# Pivot the ratings to create a user-item matrix\n",
    "user_item_matrix = ratings.pivot(index='user_id', columns='item_id', values='implicit_rating').fillna(0)\n"
   ]
  },
  {
   "cell_type": "code",
   "execution_count": 17,
   "id": "3251e3c8-7aef-4506-96ec-b9b22371d7c6",
   "metadata": {},
   "outputs": [],
   "source": [
    "from sklearn.metrics.pairwise import cosine_similarity\n",
    "from scipy.sparse import csr_matrix\n",
    "\n",
    "# Convert the user-item matrix to a sparse matrix format\n",
    "user_item_sparse_matrix = csr_matrix(user_item_matrix.values)\n",
    "\n",
    "# Calculate the cosine similarity between users\n",
    "user_similarity = cosine_similarity(user_item_sparse_matrix)\n",
    "\n",
    "# Create a DataFrame for the user similarity\n",
    "user_similarity_df = pd.DataFrame(user_similarity, index=user_item_matrix.index, columns=user_item_matrix.index)\n"
   ]
  },
  {
   "cell_type": "code",
   "execution_count": 37,
   "id": "8f8067e2-660f-4eb2-a81a-46b6fc785903",
   "metadata": {},
   "outputs": [
    {
     "name": "stdout",
     "output_type": "stream",
     "text": [
      "   item_id item_name             category\n",
      "0      114   item114        TIE-up sarees\n",
      "1      104   item104            Black tie\n",
      "2      105   item105  Cocktail dress code\n",
      "3      113   item113        TIE-up sarees\n",
      "4      191       NaN                  NaN\n"
     ]
    }
   ],
   "source": [
    "def get_user_recommendations(user_id, user_similarity_df, user_item_matrix, items_df, num_recommendations=5):\n",
    "    # Get the user's similarity scores\n",
    "    similar_users = user_similarity_df[user_id].sort_values(ascending=False)\n",
    "\n",
    "    # Get items interacted with by the similar users\n",
    "    similar_users_interactions = user_item_matrix.loc[similar_users.index]\n",
    "    \n",
    "    # Calculate the weighted sum of ratings for each item\n",
    "    item_recommendations = similar_users_interactions.T.dot(similar_users).div(similar_users.sum(), axis=0)\n",
    "    \n",
    "    # Exclude items the user has already interacted with\n",
    "    user_interactions = user_item_matrix.loc[user_id]\n",
    "    item_recommendations = item_recommendations[user_interactions == 0]\n",
    "    \n",
    "    # Get the top recommendations\n",
    "    top_recommendations = item_recommendations.sort_values(ascending=False).head(num_recommendations)\n",
    "    \n",
    "    # Join with the items dataframe to get item names and categories\n",
    "    recommended_items = top_recommendations.reset_index().merge(items_df, on='item_id', how='left')\n",
    "    \n",
    "    return recommended_items[['item_id', 'item_name', 'category']]\n",
    "\n",
    "# Example: Get recommendations for AARAV\n",
    "user_id = 1\n",
    "recommendations = get_user_recommendations(user_id, user_similarity_df, user_item_matrix, df_1)\n",
    "print(recommendations)\n"
   ]
  },
  {
   "cell_type": "code",
   "execution_count": null,
   "id": "2b222d38-5144-4146-ab96-51e5f30fe087",
   "metadata": {},
   "outputs": [],
   "source": []
  }
 ],
 "metadata": {
  "kernelspec": {
   "display_name": "Python 3 (ipykernel)",
   "language": "python",
   "name": "python3"
  },
  "language_info": {
   "codemirror_mode": {
    "name": "ipython",
    "version": 3
   },
   "file_extension": ".py",
   "mimetype": "text/x-python",
   "name": "python",
   "nbconvert_exporter": "python",
   "pygments_lexer": "ipython3",
   "version": "3.11.7"
  }
 },
 "nbformat": 4,
 "nbformat_minor": 5
}
