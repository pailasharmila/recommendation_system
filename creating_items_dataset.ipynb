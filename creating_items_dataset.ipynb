{
 "cells": [
  {
   "cell_type": "code",
   "execution_count": 3,
   "id": "66f79125-5faa-4f44-a076-3cbf9d070fa0",
   "metadata": {},
   "outputs": [
    {
     "name": "stdout",
     "output_type": "stream",
     "text": [
      "New items dataset with precise descriptions saved to items_new.csv\n",
      "   item_id item_name             category  \\\n",
      "0      101   item101        TIE-up sarees   \n",
      "1      102   item102           Nike shoes   \n",
      "2      103   item103            Black tie   \n",
      "3      104   item104            Black tie   \n",
      "4      105   item105  Cocktail dress code   \n",
      "\n",
      "                                         description  \n",
      "0  Elegant TIE-up sarees perfect for formal and c...  \n",
      "1  High-performance Nike shoes for sports and cas...  \n",
      "2  Elegant formal wear suitable for black tie eve...  \n",
      "3  Elegant formal wear suitable for black tie eve...  \n",
      "4  Chic and fashionable dress suitable for cockta...  \n"
     ]
    }
   ],
   "source": [
    "import pandas as pd\n",
    "import random\n",
    "\n",
    "# New categories\n",
    "categories = [\n",
    "    'Black tie', 'Business casual', 'Casual', 'Skirt', 'Suit', \n",
    "    'Cocktail dress code', 'Indian traditionals', 'Nike shoes', \n",
    "    'Chudidhar', 'Gender-neutral professional dress', 'TIE-up sarees'\n",
    "]\n",
    "\n",
    "# Parameters\n",
    "num_items = 50  # Number of items\n",
    "\n",
    "# Descriptions based on category\n",
    "category_descriptions = {\n",
    "    'Black tie': 'Elegant formal wear suitable for black tie events.',\n",
    "    'Business casual': 'Smart and professional attire for a relaxed office environment.',\n",
    "    'Casual': 'Comfortable and everyday wear for casual outings.',\n",
    "    'Skirt': 'Stylish skirt perfect for both casual and formal occasions.',\n",
    "    'Suit': 'Classic and tailored suit ideal for business and formal events.',\n",
    "    'Cocktail dress code': 'Chic and fashionable dress suitable for cocktail parties.',\n",
    "    'Indian traditionals': 'Traditional Indian attire for cultural and festive occasions.',\n",
    "    'Nike shoes': 'High-performance Nike shoes for sports and casual wear.',\n",
    "    'Chudidhar': 'Traditional Chudidhar outfit for a stylish ethnic look.',\n",
    "    'Gender-neutral professional dress': 'Professional attire suitable for all genders in the workplace.',\n",
    "    'TIE-up sarees': 'Elegant TIE-up sarees perfect for formal and cultural events.'\n",
    "}\n",
    "\n",
    "# Generate new items with the specified categories and precise descriptions\n",
    "items_new = pd.DataFrame({\n",
    "    'item_id': range(101, 101 + num_items),\n",
    "    'item_name': [f'item{i}' for i in range(101, 101 + num_items)],\n",
    "    'category': [random.choice(categories) for _ in range(num_items)],\n",
    "})\n",
    "\n",
    "# Add precise descriptions based on the category\n",
    "items_new['description'] = items_new['category'].map(category_descriptions)\n",
    "\n",
    "# Save new items to CSV\n",
    "items_new_path = 'items_new.csv'\n",
    "items_new.to_csv(items_new_path, index=False)\n",
    "\n",
    "print(f\"New items dataset with precise descriptions saved to {items_new_path}\")\n",
    "print(items_new.head())\n"
   ]
  },
  {
   "cell_type": "code",
   "execution_count": null,
   "id": "2eae7920-8512-4f04-80bb-220f429559a1",
   "metadata": {},
   "outputs": [],
   "source": []
  }
 ],
 "metadata": {
  "kernelspec": {
   "display_name": "Python 3 (ipykernel)",
   "language": "python",
   "name": "python3"
  },
  "language_info": {
   "codemirror_mode": {
    "name": "ipython",
    "version": 3
   },
   "file_extension": ".py",
   "mimetype": "text/x-python",
   "name": "python",
   "nbconvert_exporter": "python",
   "pygments_lexer": "ipython3",
   "version": "3.11.7"
  }
 },
 "nbformat": 4,
 "nbformat_minor": 5
}
